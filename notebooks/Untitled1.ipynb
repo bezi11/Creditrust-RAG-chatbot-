{
 "cells": [
  {
   "cell_type": "code",
   "execution_count": null,
   "id": "568785ed-9ef4-4001-b209-b2b01ea82b45",
   "metadata": {},
   "outputs": [],
   "source": []
  }
 ],
 "metadata": {
  "kernelspec": {
   "display_name": "Python (credi-rag)",
   "language": "python",
   "name": "credi-rag"
  },
  "language_info": {
   "codemirror_mode": {
    "name": "ipython",
    "version": 3
   },
   "file_extension": ".py",
   "mimetype": "text/x-python",
   "name": "python",
   "nbconvert_exporter": "python",
   "pygments_lexer": "ipython3",
   "version": "3.12.7"
  }
 },
 "nbformat": 4,
 "nbformat_minor": 5
}
