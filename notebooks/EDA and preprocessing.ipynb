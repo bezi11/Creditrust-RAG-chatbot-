{
 "cells": [
  {
   "cell_type": "markdown",
   "id": "cecd713a-cdf9-4888-bd6a-cd0ccb17fde0",
   "metadata": {},
   "source": [
    "#### EDA and Preprocessing "
   ]
  },
  {
   "cell_type": "markdown",
   "id": "e25268bb-5cea-4a51-bc4e-fa5b38ce1fd8",
   "metadata": {},
   "source": [
    "#### Task 1"
   ]
  },
  {
   "cell_type": "markdown",
   "id": "405e57dd-c253-4f19-97cd-39673443c649",
   "metadata": {},
   "source": [
    "##### import the important libraries "
   ]
  },
  {
   "cell_type": "code",
   "execution_count": 1,
   "id": "85d2710e-d4b9-4376-84de-1d0f05bf4197",
   "metadata": {},
   "outputs": [],
   "source": [
    "import pandas as pd\n",
    "import matplotlib.pyplot as plt\n",
    "import seaborn as sns\n",
    "import re"
   ]
  },
  {
   "cell_type": "code",
   "execution_count": 6,
   "id": "ae7ef9f6-762c-44a3-9522-e484f1c30568",
   "metadata": {},
   "outputs": [
    {
     "name": "stderr",
     "output_type": "stream",
     "text": [
      "C:\\Users\\27638\\AppData\\Local\\Temp\\ipykernel_26068\\3017873086.py:1: DtypeWarning: Columns (16) have mixed types. Specify dtype option on import or set low_memory=False.\n",
      "  dfb = pd.read_csv(\"C:/Users/27638/Creditrust-RAG-chatbot-/data/complaints.csv\")\n"
     ]
    }
   ],
   "source": [
    "dfb = pd.read_csv(\"C:/Users/27638/Creditrust-RAG-chatbot-/data/complaints.csv\")"
   ]
  },
  {
   "cell_type": "code",
   "execution_count": 7,
   "id": "ac5b6439-c483-4a14-8bfd-fd001f58b05c",
   "metadata": {},
   "outputs": [
    {
     "data": {
      "text/html": [
       "<div>\n",
       "<style scoped>\n",
       "    .dataframe tbody tr th:only-of-type {\n",
       "        vertical-align: middle;\n",
       "    }\n",
       "\n",
       "    .dataframe tbody tr th {\n",
       "        vertical-align: top;\n",
       "    }\n",
       "\n",
       "    .dataframe thead th {\n",
       "        text-align: right;\n",
       "    }\n",
       "</style>\n",
       "<table border=\"1\" class=\"dataframe\">\n",
       "  <thead>\n",
       "    <tr style=\"text-align: right;\">\n",
       "      <th></th>\n",
       "      <th>Date received</th>\n",
       "      <th>Product</th>\n",
       "      <th>Sub-product</th>\n",
       "      <th>Issue</th>\n",
       "      <th>Sub-issue</th>\n",
       "      <th>Consumer complaint narrative</th>\n",
       "      <th>Company public response</th>\n",
       "      <th>Company</th>\n",
       "      <th>State</th>\n",
       "      <th>ZIP code</th>\n",
       "      <th>Tags</th>\n",
       "      <th>Consumer consent provided?</th>\n",
       "      <th>Submitted via</th>\n",
       "      <th>Date sent to company</th>\n",
       "      <th>Company response to consumer</th>\n",
       "      <th>Timely response?</th>\n",
       "      <th>Consumer disputed?</th>\n",
       "      <th>Complaint ID</th>\n",
       "    </tr>\n",
       "  </thead>\n",
       "  <tbody>\n",
       "    <tr>\n",
       "      <th>0</th>\n",
       "      <td>2025-06-20</td>\n",
       "      <td>Credit reporting or other personal consumer re...</td>\n",
       "      <td>Credit reporting</td>\n",
       "      <td>Incorrect information on your report</td>\n",
       "      <td>Information belongs to someone else</td>\n",
       "      <td>NaN</td>\n",
       "      <td>NaN</td>\n",
       "      <td>Experian Information Solutions Inc.</td>\n",
       "      <td>FL</td>\n",
       "      <td>32092</td>\n",
       "      <td>NaN</td>\n",
       "      <td>NaN</td>\n",
       "      <td>Web</td>\n",
       "      <td>2025-06-20</td>\n",
       "      <td>In progress</td>\n",
       "      <td>Yes</td>\n",
       "      <td>NaN</td>\n",
       "      <td>14195687</td>\n",
       "    </tr>\n",
       "    <tr>\n",
       "      <th>1</th>\n",
       "      <td>2025-06-20</td>\n",
       "      <td>Debt collection</td>\n",
       "      <td>Telecommunications debt</td>\n",
       "      <td>Attempts to collect debt not owed</td>\n",
       "      <td>Debt is not yours</td>\n",
       "      <td>NaN</td>\n",
       "      <td>Company can't verify or dispute the facts in t...</td>\n",
       "      <td>Eastern Account Systems of Connecticut, Inc.</td>\n",
       "      <td>FL</td>\n",
       "      <td>342XX</td>\n",
       "      <td>NaN</td>\n",
       "      <td>NaN</td>\n",
       "      <td>Web</td>\n",
       "      <td>2025-06-20</td>\n",
       "      <td>Closed with explanation</td>\n",
       "      <td>Yes</td>\n",
       "      <td>NaN</td>\n",
       "      <td>14195688</td>\n",
       "    </tr>\n",
       "    <tr>\n",
       "      <th>2</th>\n",
       "      <td>2025-06-20</td>\n",
       "      <td>Credit reporting or other personal consumer re...</td>\n",
       "      <td>Credit reporting</td>\n",
       "      <td>Improper use of your report</td>\n",
       "      <td>Reporting company used your report improperly</td>\n",
       "      <td>NaN</td>\n",
       "      <td>NaN</td>\n",
       "      <td>TRANSUNION INTERMEDIATE HOLDINGS, INC.</td>\n",
       "      <td>AZ</td>\n",
       "      <td>85225</td>\n",
       "      <td>NaN</td>\n",
       "      <td>NaN</td>\n",
       "      <td>Web</td>\n",
       "      <td>2025-06-20</td>\n",
       "      <td>In progress</td>\n",
       "      <td>Yes</td>\n",
       "      <td>NaN</td>\n",
       "      <td>14195689</td>\n",
       "    </tr>\n",
       "    <tr>\n",
       "      <th>3</th>\n",
       "      <td>2025-06-20</td>\n",
       "      <td>Credit reporting or other personal consumer re...</td>\n",
       "      <td>Credit reporting</td>\n",
       "      <td>Improper use of your report</td>\n",
       "      <td>Reporting company used your report improperly</td>\n",
       "      <td>NaN</td>\n",
       "      <td>NaN</td>\n",
       "      <td>Experian Information Solutions Inc.</td>\n",
       "      <td>AZ</td>\n",
       "      <td>85225</td>\n",
       "      <td>NaN</td>\n",
       "      <td>NaN</td>\n",
       "      <td>Web</td>\n",
       "      <td>2025-06-20</td>\n",
       "      <td>In progress</td>\n",
       "      <td>Yes</td>\n",
       "      <td>NaN</td>\n",
       "      <td>14195690</td>\n",
       "    </tr>\n",
       "    <tr>\n",
       "      <th>4</th>\n",
       "      <td>2025-06-20</td>\n",
       "      <td>Credit reporting or other personal consumer re...</td>\n",
       "      <td>Credit reporting</td>\n",
       "      <td>Incorrect information on your report</td>\n",
       "      <td>Account status incorrect</td>\n",
       "      <td>NaN</td>\n",
       "      <td>NaN</td>\n",
       "      <td>Experian Information Solutions Inc.</td>\n",
       "      <td>IL</td>\n",
       "      <td>60628</td>\n",
       "      <td>NaN</td>\n",
       "      <td>NaN</td>\n",
       "      <td>Web</td>\n",
       "      <td>2025-06-20</td>\n",
       "      <td>In progress</td>\n",
       "      <td>Yes</td>\n",
       "      <td>NaN</td>\n",
       "      <td>14195692</td>\n",
       "    </tr>\n",
       "  </tbody>\n",
       "</table>\n",
       "</div>"
      ],
      "text/plain": [
       "  Date received                                            Product  \\\n",
       "0    2025-06-20  Credit reporting or other personal consumer re...   \n",
       "1    2025-06-20                                    Debt collection   \n",
       "2    2025-06-20  Credit reporting or other personal consumer re...   \n",
       "3    2025-06-20  Credit reporting or other personal consumer re...   \n",
       "4    2025-06-20  Credit reporting or other personal consumer re...   \n",
       "\n",
       "               Sub-product                                 Issue  \\\n",
       "0         Credit reporting  Incorrect information on your report   \n",
       "1  Telecommunications debt     Attempts to collect debt not owed   \n",
       "2         Credit reporting           Improper use of your report   \n",
       "3         Credit reporting           Improper use of your report   \n",
       "4         Credit reporting  Incorrect information on your report   \n",
       "\n",
       "                                       Sub-issue Consumer complaint narrative  \\\n",
       "0            Information belongs to someone else                          NaN   \n",
       "1                              Debt is not yours                          NaN   \n",
       "2  Reporting company used your report improperly                          NaN   \n",
       "3  Reporting company used your report improperly                          NaN   \n",
       "4                       Account status incorrect                          NaN   \n",
       "\n",
       "                             Company public response  \\\n",
       "0                                                NaN   \n",
       "1  Company can't verify or dispute the facts in t...   \n",
       "2                                                NaN   \n",
       "3                                                NaN   \n",
       "4                                                NaN   \n",
       "\n",
       "                                        Company State ZIP code Tags  \\\n",
       "0           Experian Information Solutions Inc.    FL    32092  NaN   \n",
       "1  Eastern Account Systems of Connecticut, Inc.    FL    342XX  NaN   \n",
       "2        TRANSUNION INTERMEDIATE HOLDINGS, INC.    AZ    85225  NaN   \n",
       "3           Experian Information Solutions Inc.    AZ    85225  NaN   \n",
       "4           Experian Information Solutions Inc.    IL    60628  NaN   \n",
       "\n",
       "  Consumer consent provided? Submitted via Date sent to company  \\\n",
       "0                        NaN           Web           2025-06-20   \n",
       "1                        NaN           Web           2025-06-20   \n",
       "2                        NaN           Web           2025-06-20   \n",
       "3                        NaN           Web           2025-06-20   \n",
       "4                        NaN           Web           2025-06-20   \n",
       "\n",
       "  Company response to consumer Timely response? Consumer disputed?  \\\n",
       "0                  In progress              Yes                NaN   \n",
       "1      Closed with explanation              Yes                NaN   \n",
       "2                  In progress              Yes                NaN   \n",
       "3                  In progress              Yes                NaN   \n",
       "4                  In progress              Yes                NaN   \n",
       "\n",
       "   Complaint ID  \n",
       "0      14195687  \n",
       "1      14195688  \n",
       "2      14195689  \n",
       "3      14195690  \n",
       "4      14195692  "
      ]
     },
     "execution_count": 7,
     "metadata": {},
     "output_type": "execute_result"
    }
   ],
   "source": [
    "dfb.head()"
   ]
  },
  {
   "cell_type": "code",
   "execution_count": 9,
   "id": "f665aa66-8a75-4a19-88a2-c2dce888b6c6",
   "metadata": {},
   "outputs": [
    {
     "data": {
      "text/plain": [
       "(9609797, 18)"
      ]
     },
     "execution_count": 9,
     "metadata": {},
     "output_type": "execute_result"
    }
   ],
   "source": [
    "dfb.shape"
   ]
  },
  {
   "cell_type": "code",
   "execution_count": 10,
   "id": "38c07dea-d4ce-4b57-895b-6de346c74ba2",
   "metadata": {},
   "outputs": [
    {
     "data": {
      "text/plain": [
       "Index(['Date received', 'Product', 'Sub-product', 'Issue', 'Sub-issue',\n",
       "       'Consumer complaint narrative', 'Company public response', 'Company',\n",
       "       'State', 'ZIP code', 'Tags', 'Consumer consent provided?',\n",
       "       'Submitted via', 'Date sent to company', 'Company response to consumer',\n",
       "       'Timely response?', 'Consumer disputed?', 'Complaint ID'],\n",
       "      dtype='object')"
      ]
     },
     "execution_count": 10,
     "metadata": {},
     "output_type": "execute_result"
    }
   ],
   "source": [
    "dfb.columns"
   ]
  },
  {
   "cell_type": "code",
   "execution_count": 12,
   "id": "7154fcd1-d12d-4f09-826d-45480ab61d9d",
   "metadata": {},
   "outputs": [
    {
     "data": {
      "text/html": [
       "<div>\n",
       "<style scoped>\n",
       "    .dataframe tbody tr th:only-of-type {\n",
       "        vertical-align: middle;\n",
       "    }\n",
       "\n",
       "    .dataframe tbody tr th {\n",
       "        vertical-align: top;\n",
       "    }\n",
       "\n",
       "    .dataframe thead th {\n",
       "        text-align: right;\n",
       "    }\n",
       "</style>\n",
       "<table border=\"1\" class=\"dataframe\">\n",
       "  <thead>\n",
       "    <tr style=\"text-align: right;\">\n",
       "      <th></th>\n",
       "      <th>Complaint ID</th>\n",
       "    </tr>\n",
       "  </thead>\n",
       "  <tbody>\n",
       "    <tr>\n",
       "      <th>count</th>\n",
       "      <td>9.609797e+06</td>\n",
       "    </tr>\n",
       "    <tr>\n",
       "      <th>mean</th>\n",
       "      <td>8.092744e+06</td>\n",
       "    </tr>\n",
       "    <tr>\n",
       "      <th>std</th>\n",
       "      <td>3.774842e+06</td>\n",
       "    </tr>\n",
       "    <tr>\n",
       "      <th>min</th>\n",
       "      <td>1.000000e+00</td>\n",
       "    </tr>\n",
       "    <tr>\n",
       "      <th>25%</th>\n",
       "      <td>5.038016e+06</td>\n",
       "    </tr>\n",
       "    <tr>\n",
       "      <th>50%</th>\n",
       "      <td>8.448508e+06</td>\n",
       "    </tr>\n",
       "    <tr>\n",
       "      <th>75%</th>\n",
       "      <td>1.129591e+07</td>\n",
       "    </tr>\n",
       "    <tr>\n",
       "      <th>max</th>\n",
       "      <td>1.423259e+07</td>\n",
       "    </tr>\n",
       "  </tbody>\n",
       "</table>\n",
       "</div>"
      ],
      "text/plain": [
       "       Complaint ID\n",
       "count  9.609797e+06\n",
       "mean   8.092744e+06\n",
       "std    3.774842e+06\n",
       "min    1.000000e+00\n",
       "25%    5.038016e+06\n",
       "50%    8.448508e+06\n",
       "75%    1.129591e+07\n",
       "max    1.423259e+07"
      ]
     },
     "execution_count": 12,
     "metadata": {},
     "output_type": "execute_result"
    }
   ],
   "source": [
    "dfb.describe()"
   ]
  },
  {
   "cell_type": "code",
   "execution_count": 13,
   "id": "26d7bb80-7b11-4909-8b57-b99e4c0e6040",
   "metadata": {},
   "outputs": [
    {
     "name": "stdout",
     "output_type": "stream",
     "text": [
      "Complaints with narrative: 2980756\n",
      "Complaints without narrative: 6629041\n"
     ]
    }
   ],
   "source": [
    "# How many complaints have narratives\n",
    "has_narrative = dfb['Consumer complaint narrative'].notnull().sum()\n",
    "no_narrative = dfb['Consumer complaint narrative'].isnull().sum()\n",
    "\n",
    "print(f\"Complaints with narrative: {has_narrative}\")\n",
    "print(f\"Complaints without narrative: {no_narrative}\")"
   ]
  },
  {
   "cell_type": "code",
   "execution_count": 14,
   "id": "83d5af82-e97f-49e7-87a2-de404d907783",
   "metadata": {},
   "outputs": [
    {
     "data": {
      "image/png": "[encoded data removed]",
      "text/plain": [
       "<Figure size 1000x500 with 1 Axes>"
      ]
     },
     "metadata": {},
     "output_type": "display_data"
    }
   ],
   "source": [
    "# Product distribution\n",
    "plt.figure(figsize=(10,5))\n",
    "sns.countplot(data=dfb, y='Product', order=dfb['Product'].value_counts().index)\n",
    "plt.title(\"Complaints per Product\")\n",
    "plt.show()"
   ]
  },
  {
   "cell_type": "code",
   "execution_count": 15,
   "id": "c0a4ea42-b26e-4862-8db3-f433c9018f0d",
   "metadata": {},
   "outputs": [
    {
     "name": "stdout",
     "output_type": "stream",
     "text": [
      "✅ Filtered data shape: (177855, 18)\n"
     ]
    },
    {
     "data": {
      "text/plain": [
       "Product\n",
       "Money transfer, virtual currency, or money service    97188\n",
       "Credit card                                           80667\n",
       "Name: count, dtype: int64"
      ]
     },
     "execution_count": 15,
     "metadata": {},
     "output_type": "execute_result"
    }
   ],
   "source": [
    "# Target products\n",
    "products_of_interest = [\n",
    "    'Credit card', \n",
    "    'Personal loan', \n",
    "    'Buy Now, Pay Later', \n",
    "    'Savings account', \n",
    "    'Money transfer, virtual currency, or money service'\n",
    "]\n",
    "\n",
    "# Filter\n",
    "filtered_df = dfb[\n",
    "    dfb['Product'].isin(products_of_interest) & \n",
    "    dfb['Consumer complaint narrative'].notnull()\n",
    "].copy()\n",
    "\n",
    "print(\"✅ Filtered data shape:\", filtered_df.shape)\n",
    "filtered_df['Product'].value_counts()\n"
   ]
  },
  {
   "cell_type": "code",
   "execution_count": 16,
   "id": "01389cc0-bfa3-4b46-bc97-90271de9f8cc",
   "metadata": {},
   "outputs": [],
   "source": [
    "# Basic text cleaning\n",
    "def clean_text(text):\n",
    "    text = text.lower()\n",
    "    text = re.sub(r'[^a-zA-Z0-9\\s]', '', text)  # remove special chars\n",
    "    text = re.sub(r'\\s+', ' ', text).strip()    # remove extra whitespace\n",
    "    return text\n",
    "\n",
    "filtered_df['cleaned_narrative'] = filtered_df['Consumer complaint narrative'].apply(clean_text)\n"
   ]
  },
  {
   "cell_type": "code",
   "execution_count": 17,
   "id": "10c51f1b-a8f9-48be-a39e-bb00571e5c20",
   "metadata": {},
   "outputs": [
    {
     "name": "stdout",
     "output_type": "stream",
     "text": [
      "✅ Saved cleaned dataset to data/filtered_complaints.csv\n"
     ]
    }
   ],
   "source": [
    "filtered_df.to_csv('../data/filtered_complaints.csv', index=False)\n",
    "print(\"✅ Saved cleaned dataset to data/filtered_complaints.csv\")\n"
   ]
  },
  {
   "cell_type": "code",
   "execution_count": null,
   "id": "c1b10f05-4fb0-4a12-a279-f73776f9fcbf",
   "metadata": {},
   "outputs": [],
   "source": []
  },
  {
   "cell_type": "code",
   "execution_count": null,
   "id": "94bed7c5-3f8b-40d2-8f66-c77a3340ee9c",
   "metadata": {},
   "outputs": [],
   "source": []
  },
  {
   "cell_type": "code",
   "execution_count": null,
   "id": "e041f7ca-dcc2-4831-87fa-8483e043e967",
   "metadata": {},
   "outputs": [],
   "source": []
  },
  {
   "cell_type": "code",
   "execution_count": null,
   "id": "a4e63361-24f6-4a33-8a2f-a19c88d652a2",
   "metadata": {},
   "outputs": [],
   "source": []
  },
  {
   "cell_type": "code",
   "execution_count": null,
   "id": "b247f767-f9cd-4cc7-8aa0-91f7a8b4f5dc",
   "metadata": {},
   "outputs": [],
   "source": []
  },
  {
   "cell_type": "code",
   "execution_count": null,
   "id": "4562ba7d-d9e0-4b2c-824f-e80ad74ef921",
   "metadata": {},
   "outputs": [],
   "source": []
  },
  {
   "cell_type": "code",
   "execution_count": null,
   "id": "09fb8981-bc94-47dd-b7a3-679460ae5aff",
   "metadata": {},
   "outputs": [],
   "source": []
  },
  {
   "cell_type": "code",
   "execution_count": null,
   "id": "600c29c8-882b-41d3-a903-9216ebac4c09",
   "metadata": {},
   "outputs": [],
   "source": []
  },
  {
   "cell_type": "code",
   "execution_count": null,
   "id": "eff3a3f9-3a22-4b8f-9507-a2ff016a490a",
   "metadata": {},
   "outputs": [],
   "source": []
  },
  {
   "cell_type": "code",
   "execution_count": null,
   "id": "97106c4b-03e9-4b67-a5ec-0d49149b6299",
   "metadata": {},
   "outputs": [],
   "source": []
  },
  {
   "cell_type": "code",
   "execution_count": null,
   "id": "f60eae4a-3a31-4675-87c0-591d11403e1f",
   "metadata": {},
   "outputs": [],
   "source": []
  },
  {
   "cell_type": "code",
   "execution_count": null,
   "id": "5ecbb148-56ae-41f9-baed-9d68aade9744",
   "metadata": {},
   "outputs": [],
   "source": []
  },
  {
   "cell_type": "code",
   "execution_count": null,
   "id": "b6aa3d2b-81bb-43b6-ba13-551f1deabe3f",
   "metadata": {},
   "outputs": [],
   "source": []
  },
  {
   "cell_type": "code",
   "execution_count": null,
   "id": "4c1631b2-f97b-47a7-ba09-b500c46aa0c6",
   "metadata": {},
   "outputs": [],
   "source": []
  },
  {
   "cell_type": "code",
   "execution_count": null,
   "id": "b15eed81-da79-4990-96a7-a41c615e2c73",
   "metadata": {},
   "outputs": [],
   "source": []
  },
  {
   "cell_type": "code",
   "execution_count": null,
   "id": "775cd215-eebd-4f47-a4cc-30b1223674d4",
   "metadata": {},
   "outputs": [],
   "source": []
  },
  {
   "cell_type": "code",
   "execution_count": null,
   "id": "b9bee16f-9de4-49c0-8aa5-26b205d0b0c8",
   "metadata": {},
   "outputs": [],
   "source": []
  },
  {
   "cell_type": "code",
   "execution_count": null,
   "id": "e3e90261-d03e-467b-9b50-ac29f66a04bd",
   "metadata": {},
   "outputs": [],
   "source": []
  },
  {
   "cell_type": "code",
   "execution_count": null,
   "id": "73363a32-dfd9-4fcd-a6e3-3f0d9b81ac81",
   "metadata": {},
   "outputs": [],
   "source": []
  },
  {
   "cell_type": "code",
   "execution_count": null,
   "id": "a36ecdcf-c448-4a3b-97b4-1534ba8d79a9",
   "metadata": {},
   "outputs": [],
   "source": []
  },
  {
   "cell_type": "code",
   "execution_count": null,
   "id": "0afe0fb9-3ab4-4997-953e-a16cc34f8386",
   "metadata": {},
   "outputs": [],
   "source": []
  },
  {
   "cell_type": "code",
   "execution_count": null,
   "id": "04ca28ca-4ecc-46d6-96cc-a9e319625dcf",
   "metadata": {},
   "outputs": [],
   "source": []
  },
  {
   "cell_type": "code",
   "execution_count": null,
   "id": "8677e5da-f3b7-4054-a9a8-10f856adc856",
   "metadata": {},
   "outputs": [],
   "source": []
  },
  {
   "cell_type": "code",
   "execution_count": null,
   "id": "bc9372a7-dd67-40f9-93f6-230e78fe739b",
   "metadata": {},
   "outputs": [],
   "source": []
  },
  {
   "cell_type": "code",
   "execution_count": null,
   "id": "dd4ee2b8-468c-44d6-b54c-fbc89436f8d0",
   "metadata": {},
   "outputs": [],
   "source": []
  },
  {
   "cell_type": "code",
   "execution_count": null,
   "id": "870b17cc-3f11-4594-aabf-3aa2757cf5e4",
   "metadata": {},
   "outputs": [],
   "source": []
  },
  {
   "cell_type": "code",
   "execution_count": null,
   "id": "e4385e6a-6111-4213-a6a0-2ee5d1d2394a",
   "metadata": {},
   "outputs": [],
   "source": []
  },
  {
   "cell_type": "code",
   "execution_count": null,
   "id": "a40840f0-6141-4d9c-9720-2e9ffeac288d",
   "metadata": {},
   "outputs": [],
   "source": []
  },
  {
   "cell_type": "code",
   "execution_count": null,
   "id": "0bd1a21c-3862-404e-a6b1-f6f04d17ab12",
   "metadata": {},
   "outputs": [],
   "source": []
  },
  {
   "cell_type": "code",
   "execution_count": null,
   "id": "cf8ba938-f0f8-4eb7-846b-6079cf7f2d3b",
   "metadata": {},
   "outputs": [],
   "source": []
  },
  {
   "cell_type": "code",
   "execution_count": null,
   "id": "eb2df980-c0d1-4a3a-94ad-7129ed1d95ce",
   "metadata": {},
   "outputs": [],
   "source": []
  },
  {
   "cell_type": "code",
   "execution_count": null,
   "id": "fec1f789-4da0-4870-9fd2-3617d4c8180b",
   "metadata": {},
   "outputs": [],
   "source": []
  },
  {
   "cell_type": "code",
   "execution_count": null,
   "id": "0929a3ba-a8f6-4443-8f38-a2217056ea74",
   "metadata": {},
   "outputs": [],
   "source": []
  },
  {
   "cell_type": "code",
   "execution_count": null,
   "id": "e91babfd-81cb-48b2-ad09-e7fb12ba0838",
   "metadata": {},
   "outputs": [],
   "source": []
  },
  {
   "cell_type": "code",
   "execution_count": null,
   "id": "926ef3ee-7eaf-444c-a80e-5822b8e3d90a",
   "metadata": {},
   "outputs": [],
   "source": []
  },
  {
   "cell_type": "code",
   "execution_count": null,
   "id": "101add2c-7333-412d-bd5c-8dd2fe21372a",
   "metadata": {},
   "outputs": [],
   "source": []
  },
  {
   "cell_type": "code",
   "execution_count": null,
   "id": "dee5989c-1491-4237-a82f-4770cd56454c",
   "metadata": {},
   "outputs": [],
   "source": []
  },
  {
   "cell_type": "code",
   "execution_count": null,
   "id": "0d609056-9e5e-4e01-905e-55ccad14a251",
   "metadata": {},
   "outputs": [],
   "source": []
  },
  {
   "cell_type": "code",
   "execution_count": null,
   "id": "93aaae8c-1e81-485b-ae5e-04078c0e5c15",
   "metadata": {},
   "outputs": [],
   "source": []
  },
  {
   "cell_type": "code",
   "execution_count": null,
   "id": "7f64a2a0-592c-4223-8b53-0117d1a31e21",
   "metadata": {},
   "outputs": [],
   "source": []
  },
  {
   "cell_type": "code",
   "execution_count": null,
   "id": "d3da0660-8930-4510-b286-0b714b180184",
   "metadata": {},
   "outputs": [],
   "source": []
  },
  {
   "cell_type": "code",
   "execution_count": null,
   "id": "416f53d9-6144-42ec-b3a8-04feb39d69ee",
   "metadata": {},
   "outputs": [],
   "source": []
  },
  {
   "cell_type": "code",
   "execution_count": null,
   "id": "3b9a31b1-adeb-44c6-857e-1b3654258342",
   "metadata": {},
   "outputs": [],
   "source": []
  },
  {
   "cell_type": "code",
   "execution_count": null,
   "id": "57cddb65-275a-4a08-b453-3198963e74f6",
   "metadata": {},
   "outputs": [],
   "source": []
  },
  {
   "cell_type": "code",
   "execution_count": null,
   "id": "877c1de1-3abe-4066-ad0e-e5f140c96821",
   "metadata": {},
   "outputs": [],
   "source": []
  },
  {
   "cell_type": "code",
   "execution_count": null,
   "id": "aa16beb7-53a5-4610-849c-623bf8668da6",
   "metadata": {},
   "outputs": [],
   "source": []
  },
  {
   "cell_type": "code",
   "execution_count": null,
   "id": "b726e300-92c4-460a-b79b-0eb09d3cd948",
   "metadata": {},
   "outputs": [],
   "source": []
  },
  {
   "cell_type": "code",
   "execution_count": null,
   "id": "b9bd29fd-1666-461f-aeb4-a13d45a839bc",
   "metadata": {},
   "outputs": [],
   "source": []
  }
 ],
 "metadata": {
  "kernelspec": {
   "display_name": "Python (credi-rag)",
   "language": "python",
   "name": "credi-rag"
  },
  "language_info": {
   "codemirror_mode": {
    "name": "ipython",
    "version": 3
   },
   "file_extension": ".py",
   "mimetype": "text/x-python",
   "name": "python",
   "nbconvert_exporter": "python",
   "pygments_lexer": "ipython3",
   "version": "3.12.7"
  }
 },
 "nbformat": 4,
 "nbformat_minor": 5
}
